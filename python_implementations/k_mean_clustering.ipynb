{
 "cells": [
  {
   "cell_type": "code",
   "execution_count": null,
   "metadata": {},
   "outputs": [],
   "source": [
    "import random \n",
    "import math\n",
    "import operator\n",
    "import matplotlib.pyplot as plt\n",
    "random.seed(0)"
   ]
  },
  {
   "cell_type": "code",
   "execution_count": null,
   "metadata": {},
   "outputs": [],
   "source": [
    "def euclidean_distance(x1,y1,x2,y2):\n",
    "    return(math.sqrt((x1-x2)**2 + (y1-y2)**2))"
   ]
  },
  {
   "cell_type": "markdown",
   "metadata": {},
   "source": [
    "## Question 1 "
   ]
  },
  {
   "cell_type": "markdown",
   "metadata": {},
   "source": [
    "### Part 1 "
   ]
  },
  {
   "cell_type": "code",
   "execution_count": null,
   "metadata": {},
   "outputs": [],
   "source": [
    "# Generate toy classification data\n",
    "center1_x = 10\n",
    "center1_y = 15\n",
    "\n",
    "center2_x = 25\n",
    "center2_y = 30\n",
    "\n",
    "center3_x = 45\n",
    "center3_y = 50"
   ]
  },
  {
   "cell_type": "code",
   "execution_count": null,
   "metadata": {},
   "outputs": [],
   "source": [
    "# add random noise\n",
    "random.seed(0)\n",
    "\n",
    "center1_data = []\n",
    "for i in range(20):\n",
    "    x = random.uniform(center1_x-5, center1_x+5)\n",
    "    y = random.uniform(center1_y-5, center1_y+5)\n",
    "    center1_data.append((x,y))\n",
    "\n",
    "center2_data = []\n",
    "for i in range(20):\n",
    "    x = random.uniform(center2_x-5, center2_x+5)\n",
    "    y = random.uniform(center2_y-5, center2_y+5)\n",
    "    center2_data.append((x,y))    \n",
    "\n",
    "center3_data = []\n",
    "for i in range(20):\n",
    "    x = random.uniform(center3_x-5, center3_x+5)\n",
    "    y = random.uniform(center3_y-5, center3_y+5)\n",
    "    center3_data.append((x,y))   \n",
    "    \n",
    "data = center1_data+center2_data+center3_data\n",
    "data"
   ]
  },
  {
   "cell_type": "code",
   "execution_count": null,
   "metadata": {},
   "outputs": [],
   "source": [
    "plt.subplots()\n",
    "plt.axis([0, 50, 0, 100])\n",
    "plt.plot(center1_x, center1_y, 'ro')\n",
    "plt.plot(center2_x, center2_y, 'go')\n",
    "plt.plot(center3_x, center3_y, 'bo')\n",
    "\n",
    "for datapoint in data:\n",
    "    plt.plot(datapoint[0], datapoint[1], 'y.')"
   ]
  },
  {
   "cell_type": "code",
   "execution_count": null,
   "metadata": {
    "scrolled": true
   },
   "outputs": [],
   "source": [
    "random.shuffle(data)\n",
    "data"
   ]
  },
  {
   "cell_type": "markdown",
   "metadata": {},
   "source": [
    "### Part 2 \n",
    "Please provide your own implementation of K-Means clustering\n",
    "Note: Since the selection of the center's is random, sometimes this algorithm can fail to produce centers or do a bad job. Run it a few times to see what you get."
   ]
  },
  {
   "cell_type": "code",
   "execution_count": null,
   "metadata": {},
   "outputs": [],
   "source": [
    "def k_means(k,datapoints):\n",
    "    curr_m = random.sample(datapoints, k)\n",
    "    print(curr_m)\n",
    "    keep_going = True\n",
    "    while keep_going:\n",
    "        result_dict = {}\n",
    "        for x in datapoints:\n",
    "            curr_val = euclidean_distance(x[0],\n",
    "                                          x[1],\n",
    "                                          curr_m[0][0],\n",
    "                                          curr_m[0][1])\n",
    "            result_dict[x] = 'center1'\n",
    "            #print(curr_m)\n",
    "            for i in range(1,k):\n",
    "                #print(i)\n",
    "                curr_distance = euclidean_distance(x[0],\n",
    "                                                   x[1],\n",
    "                                                   curr_m[i][0],\n",
    "                                                   curr_m[i][1])\n",
    "                if curr_distance < curr_val:\n",
    "                    result_dict[x] = 'center' + str(i+1)\n",
    "                    curr_val = curr_distance \n",
    "\n",
    "        new_m = []\n",
    "        \n",
    "        for i in range(0,k):\n",
    "            curr_k = 'center' + str(i+1)\n",
    "            count = 0\n",
    "            temp_sum = (0,0)\n",
    "            for key,val in result_dict.items():\n",
    "                if val == curr_k:\n",
    "                    count +=1\n",
    "                    temp_sum = tuple(map(operator.add, temp_sum,key))\n",
    "                    \n",
    "            if(count >0):\n",
    "                result = tuple(map(operator.truediv, temp_sum,(count,count)))\n",
    "                new_m.append(result)\n",
    "            \n",
    "        if curr_m == new_m:\n",
    "            keep_going = False\n",
    "        else:\n",
    "            curr_m = new_m\n",
    "        print(curr_m)\n",
    "    return(curr_m,result_dict)\n",
    "\n",
    "centers,result_dict= k_means(3,data)"
   ]
  },
  {
   "cell_type": "markdown",
   "metadata": {},
   "source": [
    "### P3 - Result Data + Plot"
   ]
  },
  {
   "cell_type": "code",
   "execution_count": null,
   "metadata": {},
   "outputs": [],
   "source": [
    "center1_x = centers[0][0]\n",
    "center1_y = centers[0][1]\n",
    "\n",
    "center2_x = centers[1][0]\n",
    "center2_y = centers[1][1]\n",
    "\n",
    "center3_x = centers[2][0]\n",
    "center3_y = centers[2][1]"
   ]
  },
  {
   "cell_type": "code",
   "execution_count": null,
   "metadata": {
    "hideCode": true,
    "hideOutput": true
   },
   "outputs": [],
   "source": []
  },
  {
   "cell_type": "code",
   "execution_count": null,
   "metadata": {},
   "outputs": [],
   "source": [
    "import matplotlib.pyplot as plt\n",
    "plt.subplots()\n",
    "plt.axis([0, 50, 0, 100])\n",
    "plt.plot(center1_x, center1_y, 'ro')\n",
    "plt.plot(center2_x, center2_y, 'go')\n",
    "plt.plot(center3_x, center3_y, 'bo')\n",
    "\n",
    "for key,val in result_dict.items():\n",
    "    if val == \"center1\":\n",
    "        plt.plot(key[0], key[1], 'r.')\n",
    "    elif val == \"center2\":\n",
    "        plt.plot(key[0], key[1], 'g.')\n",
    "    elif val == \"center3\":\n",
    "        plt.plot(key[0], key[1], 'b.')"
   ]
  },
  {
   "cell_type": "markdown",
   "metadata": {},
   "source": [
    "## Question 2"
   ]
  },
  {
   "cell_type": "code",
   "execution_count": null,
   "metadata": {},
   "outputs": [],
   "source": [
    "# Generate toy classification data\n",
    "center1_x = 10\n",
    "center1_y = 15\n",
    "\n",
    "center2_x = 20\n",
    "center2_y = 25"
   ]
  },
  {
   "cell_type": "code",
   "execution_count": null,
   "metadata": {},
   "outputs": [],
   "source": [
    "# add random noise\n",
    "center1_data = []\n",
    "for i in range(20):\n",
    "    x = random.uniform(center1_x-5, center1_x+5)\n",
    "    y = random.uniform(center1_y-5, center1_y+5)\n",
    "    center1_data.append((x,y))\n",
    "\n",
    "center2_data = []\n",
    "for i in range(20):\n",
    "    x = random.uniform(center2_x-5, center2_x+5)\n",
    "    y = random.uniform(center2_y-5, center2_y+5)\n",
    "    center2_data.append((x,y))    \n",
    "    \n",
    "data = {}\n",
    "for i in range(len(center1_data)):\n",
    "    data[center1_data[i]] = 'center1' \n",
    "for i in range(len(center2_data)):\n",
    "    data[center2_data[i]] = 'center2'\n",
    "\n",
    "data"
   ]
  },
  {
   "cell_type": "code",
   "execution_count": null,
   "metadata": {
    "scrolled": true
   },
   "outputs": [],
   "source": [
    "datapoints =  list(data.keys())\n",
    "random.shuffle(datapoints)\n",
    "datapoints"
   ]
  },
  {
   "cell_type": "markdown",
   "metadata": {},
   "source": [
    "### Part 2 \n",
    "Please provide your own implementation of K-Means clustering"
   ]
  },
  {
   "cell_type": "code",
   "execution_count": null,
   "metadata": {},
   "outputs": [],
   "source": [
    "# we will assume independence in the dimensions (i.e. no real correlation)\n",
    "def g(x,data_dict,datapoints,k,class_label):\n",
    "    list_of_distances = []\n",
    "    for current_point in datapoints:\n",
    "        calc_distance= euclidean_distance(x[0],\n",
    "                                          x[1],\n",
    "                                          current_point[0],\n",
    "                                          current_point[1])\n",
    "        list_of_distances.append((current_point,calc_distance))\n",
    "    \n",
    "    list_of_distances = sorted(list_of_distances, key=lambda tup: tup[1])\n",
    "    list_of_distances = list_of_distances[0:k] #number of points that belong to C_i out of k_nearest\n",
    "    \n",
    "    k_i = 0\n",
    "    for current_point in list_of_distances:\n",
    "        point = current_point[0]\n",
    "        if data_dict[point] == class_label:\n",
    "            k_i +=1\n",
    "    return(k_i/k)\n",
    "    \n",
    "result_dict = {}\n",
    "\n",
    "for current_point in datapoints:\n",
    "    g_1 = g(current_point,data,datapoints,3,'center1')\n",
    "    g_2 = g(current_point,data,datapoints,3,'center2')\n",
    "    result = 'center1' if g_1>g_2 else 'center2'\n",
    "    result_dict[current_point] = result"
   ]
  },
  {
   "cell_type": "markdown",
   "metadata": {},
   "source": [
    "### P3 - Result Data + Plot"
   ]
  },
  {
   "cell_type": "code",
   "execution_count": null,
   "metadata": {},
   "outputs": [],
   "source": [
    "import matplotlib.pyplot as plt\n",
    "plt.subplots()\n",
    "plt.axis([0, 30, 0, 40])\n",
    "plt.plot(center1_x, center1_y, 'ro')\n",
    "plt.plot(center2_x, center2_y, 'go')\n",
    "\n",
    "for key,val in result_dict.items():\n",
    "    if val == \"center1\":\n",
    "        plt.plot(key[0], key[1], 'r.')\n",
    "    else:\n",
    "        plt.plot(key[0], key[1], 'g.')"
   ]
  },
  {
   "cell_type": "code",
   "execution_count": null,
   "metadata": {},
   "outputs": [],
   "source": [
    "import random\n",
    "random.seed(0)\n",
    "random.uniform(5,10)"
   ]
  },
  {
   "cell_type": "code",
   "execution_count": null,
   "metadata": {},
   "outputs": [],
   "source": []
  }
 ],
 "metadata": {
  "kernelspec": {
   "display_name": "Python [conda env:Anaconda3]",
   "language": "python",
   "name": "conda-env-Anaconda3-py"
  },
  "language_info": {
   "codemirror_mode": {
    "name": "ipython",
    "version": 3
   },
   "file_extension": ".py",
   "mimetype": "text/x-python",
   "name": "python",
   "nbconvert_exporter": "python",
   "pygments_lexer": "ipython3",
   "version": "3.6.5"
  }
 },
 "nbformat": 4,
 "nbformat_minor": 2
}

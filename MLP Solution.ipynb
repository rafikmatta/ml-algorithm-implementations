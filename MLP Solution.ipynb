{
 "cells": [
  {
   "cell_type": "markdown",
   "metadata": {
    "colab": {},
    "colab_type": "code",
    "id": "QDljp34_gA3_"
   },
   "source": [
    "Define hyper-parameters and other size"
   ]
  },
  {
   "cell_type": "code",
   "execution_count": 4,
   "metadata": {},
   "outputs": [],
   "source": [
    "N=30 # number of samples\n",
    "K=3  # the number of classes\n",
    "D=4  # size of dimension OR number of independent variables\n",
    "H=10 # size of hidden layer"
   ]
  },
  {
   "cell_type": "code",
   "execution_count": 5,
   "metadata": {
    "colab": {},
    "colab_type": "code",
    "id": "EBlFOHXhjKrJ"
   },
   "outputs": [],
   "source": [
    "import numpy as np\n",
    "np.random.seed(42)\n",
    "# X is input samples\n",
    "X=np.round(np.random.rand(N,D),2)\n",
    "# R is the output\n",
    "R=np.repeat([[1,0,0], [0,1,0], [0,0,1]],10, axis=0)"
   ]
  },
  {
   "cell_type": "code",
   "execution_count": 6,
   "metadata": {
    "colab": {
     "base_uri": "https://localhost:8080/",
     "height": 527
    },
    "colab_type": "code",
    "executionInfo": {
     "elapsed": 293,
     "status": "ok",
     "timestamp": 1548088260703,
     "user": {
      "displayName": "savas yildirim",
      "photoUrl": "",
      "userId": "12193433139206622858"
     },
     "user_tz": 300
    },
    "id": "kSEJ90iEgb0Q",
    "outputId": "a281ca86-3a51-4e1d-8687-0386dc71379b",
    "scrolled": true
   },
   "outputs": [
    {
     "data": {
      "text/plain": [
       "array([[0.37, 0.95, 0.73, 0.6 , 1.  , 0.  , 0.  ],\n",
       "       [0.16, 0.16, 0.06, 0.87, 1.  , 0.  , 0.  ],\n",
       "       [0.6 , 0.71, 0.02, 0.97, 1.  , 0.  , 0.  ],\n",
       "       [0.83, 0.21, 0.18, 0.18, 1.  , 0.  , 0.  ],\n",
       "       [0.3 , 0.52, 0.43, 0.29, 1.  , 0.  , 0.  ],\n",
       "       [0.61, 0.14, 0.29, 0.37, 1.  , 0.  , 0.  ],\n",
       "       [0.46, 0.79, 0.2 , 0.51, 1.  , 0.  , 0.  ],\n",
       "       [0.59, 0.05, 0.61, 0.17, 1.  , 0.  , 0.  ],\n",
       "       [0.07, 0.95, 0.97, 0.81, 1.  , 0.  , 0.  ],\n",
       "       [0.3 , 0.1 , 0.68, 0.44, 1.  , 0.  , 0.  ],\n",
       "       [0.12, 0.5 , 0.03, 0.91, 0.  , 1.  , 0.  ],\n",
       "       [0.26, 0.66, 0.31, 0.52, 0.  , 1.  , 0.  ],\n",
       "       [0.55, 0.18, 0.97, 0.78, 0.  , 1.  , 0.  ],\n",
       "       [0.94, 0.89, 0.6 , 0.92, 0.  , 1.  , 0.  ],\n",
       "       [0.09, 0.2 , 0.05, 0.33, 0.  , 1.  , 0.  ],\n",
       "       [0.39, 0.27, 0.83, 0.36, 0.  , 1.  , 0.  ],\n",
       "       [0.28, 0.54, 0.14, 0.8 , 0.  , 1.  , 0.  ],\n",
       "       [0.07, 0.99, 0.77, 0.2 , 0.  , 1.  , 0.  ],\n",
       "       [0.01, 0.82, 0.71, 0.73, 0.  , 1.  , 0.  ],\n",
       "       [0.77, 0.07, 0.36, 0.12, 0.  , 1.  , 0.  ],\n",
       "       [0.86, 0.62, 0.33, 0.06, 0.  , 0.  , 1.  ],\n",
       "       [0.31, 0.33, 0.73, 0.64, 0.  , 0.  , 1.  ],\n",
       "       [0.89, 0.47, 0.12, 0.71, 0.  , 0.  , 1.  ],\n",
       "       [0.76, 0.56, 0.77, 0.49, 0.  , 0.  , 1.  ],\n",
       "       [0.52, 0.43, 0.03, 0.11, 0.  , 0.  , 1.  ],\n",
       "       [0.03, 0.64, 0.31, 0.51, 0.  , 0.  , 1.  ],\n",
       "       [0.91, 0.25, 0.41, 0.76, 0.  , 0.  , 1.  ],\n",
       "       [0.23, 0.08, 0.29, 0.16, 0.  , 0.  , 1.  ],\n",
       "       [0.93, 0.81, 0.63, 0.87, 0.  , 0.  , 1.  ],\n",
       "       [0.8 , 0.19, 0.89, 0.54, 0.  , 0.  , 1.  ]])"
      ]
     },
     "execution_count": 6,
     "metadata": {},
     "output_type": "execute_result"
    }
   ],
   "source": [
    "np.c_[X,R]"
   ]
  },
  {
   "cell_type": "code",
   "execution_count": 7,
   "metadata": {
    "colab": {
     "base_uri": "https://localhost:8080/",
     "height": 527
    },
    "colab_type": "code",
    "executionInfo": {
     "elapsed": 355,
     "status": "ok",
     "timestamp": 1548088262306,
     "user": {
      "displayName": "savas yildirim",
      "photoUrl": "",
      "userId": "12193433139206622858"
     },
     "user_tz": 300
    },
    "id": "ZwS0qmLHMTFw",
    "outputId": "5ece1cfb-264a-48dc-ada3-52bbdd1de53d"
   },
   "outputs": [
    {
     "data": {
      "text/plain": [
       "array([[0.74, 1.9 , 1.46, 1.2 ],\n",
       "       [0.32, 0.32, 0.12, 1.74],\n",
       "       [1.2 , 1.42, 0.04, 1.94],\n",
       "       [1.66, 0.42, 0.36, 0.36],\n",
       "       [0.6 , 1.04, 0.86, 0.58],\n",
       "       [1.22, 0.28, 0.58, 0.74],\n",
       "       [0.92, 1.58, 0.4 , 1.02],\n",
       "       [1.18, 0.1 , 1.22, 0.34],\n",
       "       [0.14, 1.9 , 1.94, 1.62],\n",
       "       [0.6 , 0.2 , 1.36, 0.88],\n",
       "       [0.6 , 2.5 , 0.15, 4.55],\n",
       "       [1.3 , 3.3 , 1.55, 2.6 ],\n",
       "       [2.75, 0.9 , 4.85, 3.9 ],\n",
       "       [4.7 , 4.45, 3.  , 4.6 ],\n",
       "       [0.45, 1.  , 0.25, 1.65],\n",
       "       [1.95, 1.35, 4.15, 1.8 ],\n",
       "       [1.4 , 2.7 , 0.7 , 4.  ],\n",
       "       [0.35, 4.95, 3.85, 1.  ],\n",
       "       [0.05, 4.1 , 3.55, 3.65],\n",
       "       [3.85, 0.35, 1.8 , 0.6 ],\n",
       "       [0.86, 0.62, 0.33, 0.06],\n",
       "       [0.31, 0.33, 0.73, 0.64],\n",
       "       [0.89, 0.47, 0.12, 0.71],\n",
       "       [0.76, 0.56, 0.77, 0.49],\n",
       "       [0.52, 0.43, 0.03, 0.11],\n",
       "       [0.03, 0.64, 0.31, 0.51],\n",
       "       [0.91, 0.25, 0.41, 0.76],\n",
       "       [0.23, 0.08, 0.29, 0.16],\n",
       "       [0.93, 0.81, 0.63, 0.87],\n",
       "       [0.8 , 0.19, 0.89, 0.54]])"
      ]
     },
     "execution_count": 7,
     "metadata": {},
     "output_type": "execute_result"
    }
   ],
   "source": [
    "# Adding some pattern into X\n",
    "X[:10,:]=X[:10,:]*2\n",
    "X[10:20,:]=X[10:20,:]*5\n",
    "X"
   ]
  },
  {
   "cell_type": "code",
   "execution_count": 9,
   "metadata": {
    "colab": {
     "base_uri": "https://localhost:8080/",
     "height": 527
    },
    "colab_type": "code",
    "executionInfo": {
     "elapsed": 299,
     "status": "ok",
     "timestamp": 1548088266830,
     "user": {
      "displayName": "savas yildirim",
      "photoUrl": "",
      "userId": "12193433139206622858"
     },
     "user_tz": 300
    },
    "id": "5-N7gXT4PzOB",
    "outputId": "827a347d-5929-4088-de57-0e6e4a1a4950"
   },
   "outputs": [
    {
     "data": {
      "text/plain": [
       "array([[1.  , 0.74, 1.9 , 1.46, 1.2 ],\n",
       "       [1.  , 0.32, 0.32, 0.12, 1.74],\n",
       "       [1.  , 1.2 , 1.42, 0.04, 1.94],\n",
       "       [1.  , 1.66, 0.42, 0.36, 0.36],\n",
       "       [1.  , 0.6 , 1.04, 0.86, 0.58],\n",
       "       [1.  , 1.22, 0.28, 0.58, 0.74],\n",
       "       [1.  , 0.92, 1.58, 0.4 , 1.02],\n",
       "       [1.  , 1.18, 0.1 , 1.22, 0.34],\n",
       "       [1.  , 0.14, 1.9 , 1.94, 1.62],\n",
       "       [1.  , 0.6 , 0.2 , 1.36, 0.88],\n",
       "       [1.  , 0.6 , 2.5 , 0.15, 4.55],\n",
       "       [1.  , 1.3 , 3.3 , 1.55, 2.6 ],\n",
       "       [1.  , 2.75, 0.9 , 4.85, 3.9 ],\n",
       "       [1.  , 4.7 , 4.45, 3.  , 4.6 ],\n",
       "       [1.  , 0.45, 1.  , 0.25, 1.65],\n",
       "       [1.  , 1.95, 1.35, 4.15, 1.8 ],\n",
       "       [1.  , 1.4 , 2.7 , 0.7 , 4.  ],\n",
       "       [1.  , 0.35, 4.95, 3.85, 1.  ],\n",
       "       [1.  , 0.05, 4.1 , 3.55, 3.65],\n",
       "       [1.  , 3.85, 0.35, 1.8 , 0.6 ],\n",
       "       [1.  , 0.86, 0.62, 0.33, 0.06],\n",
       "       [1.  , 0.31, 0.33, 0.73, 0.64],\n",
       "       [1.  , 0.89, 0.47, 0.12, 0.71],\n",
       "       [1.  , 0.76, 0.56, 0.77, 0.49],\n",
       "       [1.  , 0.52, 0.43, 0.03, 0.11],\n",
       "       [1.  , 0.03, 0.64, 0.31, 0.51],\n",
       "       [1.  , 0.91, 0.25, 0.41, 0.76],\n",
       "       [1.  , 0.23, 0.08, 0.29, 0.16],\n",
       "       [1.  , 0.93, 0.81, 0.63, 0.87],\n",
       "       [1.  , 0.8 , 0.19, 0.89, 0.54]])"
      ]
     },
     "execution_count": 9,
     "metadata": {},
     "output_type": "execute_result"
    }
   ],
   "source": [
    "#Adding Ones to the X as first bias input\n",
    "X=np.c_[np.ones(30), X]\n",
    "X"
   ]
  },
  {
   "cell_type": "code",
   "execution_count": 53,
   "metadata": {},
   "outputs": [],
   "source": [
    "import math\n",
    "\n",
    "def back_prop(x,r,H,K,D,step_size,accuracy_stop,iterations):\n",
    "    \n",
    "    v_weights = np.random.uniform(low=-0.01, high=0.01, size=(K,H+1))\n",
    "    w_weights = np.random.uniform(low=-0.01, high=0.01, size=(H,D+1))\n",
    "    \n",
    "    for run in range(iterations):\n",
    "        accuracy_score = 0\n",
    "        \n",
    "        delta_w = np.zeros(shape=(H,D+1))\n",
    "        delta_v = np.zeros(shape=(K,H+1))\n",
    "        \n",
    "        for t in range(len(x)):\n",
    "            \n",
    "            #feed forward of hidden units\n",
    "            z = np.zeros(shape=(H+1))\n",
    "            z[0] = 1\n",
    "            \n",
    "            for h in range(1,H):\n",
    "                z[h] = np.dot(np.transpose(w_weights[h]),x[t])\n",
    "            \n",
    "            z_bounded = np.zeros(shape=(H+1))\n",
    "            z_bounded[0] = 1\n",
    "            \n",
    "            #we are chosing either sigmoid or softmax \n",
    "            for index in range(len(z)):\n",
    "                if z[index] >=0:\n",
    "                    z_bounded[index] = 1/(1+np.exp(-z[index]))\n",
    "                else:\n",
    "                    z_bounded[index] = np.exp(z[index])/(1+np.exp(z[index]))\n",
    "                    \n",
    "            o = np.zeros(shape=(K))\n",
    "            y = np.zeros(shape=(K))\n",
    "            \n",
    "            for i in range(K):\n",
    "                o[i] = np.dot(np.transpose(v_weights[i]),z_bounded)\n",
    "            \n",
    "            #feed forward of outputs units\n",
    "            \n",
    "            #this is important to prevent overflow errors\n",
    "            max_o = max(o)\n",
    "            o2 = [np.exp(x-max_o) for x in o]\n",
    "            denom = sum(o2)\n",
    "            \n",
    "            for i in range(K):\n",
    "                y[i] = (o2[i]/denom)\n",
    "                \n",
    "            if np.argmax(r[t]) == np.argmax(y):\n",
    "                accuracy_score = accuracy_score + 1\n",
    "                \n",
    "            for i in range(K):                  \n",
    "                delta_v[i] = step_size*(r[t,i]-y[i])*z_bounded\n",
    "            \n",
    "            for h in range(H):\n",
    "                diff = 0\n",
    "                for i in range(K):\n",
    "                    diff += (r[t,i]-y[i])*v_weights[i,h]\n",
    "                delta_w[h] = step_size*diff*z_bounded[h]*(1-z_bounded[h])*x[t]\n",
    "            \n",
    "            for i in range(K):\n",
    "                v_weights[i] = v_weights[i] + delta_v[i]\n",
    "                \n",
    "            for h in range(H):\n",
    "                w_weights[h] = w_weights[h] + delta_w[h]\n",
    "        \n",
    "        if (accuracy_score/len(x) >= accuracy_stop):\n",
    "            print(\"Training Accuracy: \" + str(accuracy_score/len(x)*100))\n",
    "            return ({\"v_weights\": v_weights, \"w_weights\": w_weights})\n",
    "        \n",
    "    print(\"Training Accuracy: \" + str(accuracy_score/len(x)*100))\n",
    "    return ({\"v_weights\": v_weights, \"w_weights\": w_weights})"
   ]
  },
  {
   "cell_type": "code",
   "execution_count": 54,
   "metadata": {},
   "outputs": [
    {
     "name": "stdout",
     "output_type": "stream",
     "text": [
      "Training Accuracy: 83.33333333333334\n"
     ]
    },
    {
     "data": {
      "text/plain": [
       "{'v_weights': array([[-0.5058787 , -0.23254656, -0.20910362, -0.2022117 , -0.2293512 ,\n",
       "         -0.19209655, -0.21466653, -0.20657294, -0.21837953, -0.20382189,\n",
       "         -0.33994287],\n",
       "        [-0.05686433, -0.21110927, -0.21275778, -0.21589805, -0.20764571,\n",
       "         -0.22550595, -0.20625481, -0.20305512, -0.21708459, -0.2169764 ,\n",
       "         -0.04229927],\n",
       "        [ 0.56427461,  0.42295872,  0.426046  ,  0.43033302,  0.44008161,\n",
       "          0.42434076,  0.42711588,  0.42874161,  0.43381503,  0.42597445,\n",
       "          0.37150182]]),\n",
       " 'w_weights': array([[-0.0496255 ,  0.11523964,  0.007239  ,  0.21390571, -0.03167133],\n",
       "        [-0.01903163,  0.06001707, -0.05304038,  0.13532755, -0.09751213],\n",
       "        [-0.02636564,  0.06097586, -0.05925965,  0.13224542, -0.12141195],\n",
       "        [-0.01523278,  0.05449273, -0.05190508,  0.12001766, -0.13283324],\n",
       "        [-0.01188118,  0.06332654, -0.04035404,  0.13673236, -0.10792543],\n",
       "        [-0.00987989,  0.03768356, -0.06483333,  0.10568094, -0.14145584],\n",
       "        [-0.02026654,  0.05155844, -0.04551298,  0.12562948, -0.11435292],\n",
       "        [-0.02281932,  0.04989974, -0.05542472,  0.11769038, -0.11169012],\n",
       "        [-0.01115407,  0.05592732, -0.05421476,  0.12375493, -0.11308148],\n",
       "        [-0.01662305,  0.04836371, -0.06667464,  0.11735737, -0.12595387]])}"
      ]
     },
     "execution_count": 54,
     "metadata": {},
     "output_type": "execute_result"
    }
   ],
   "source": [
    "back_prop(X,R,H,K,D,0.5,.5,5)"
   ]
  },
  {
   "cell_type": "code",
   "execution_count": null,
   "metadata": {},
   "outputs": [],
   "source": []
  }
 ],
 "metadata": {
  "colab": {
   "collapsed_sections": [],
   "name": "MultiPerceptron.ipynb",
   "provenance": [],
   "version": "0.3.2"
  },
  "kernelspec": {
   "display_name": "Python [default]",
   "language": "python",
   "name": "python3"
  },
  "language_info": {
   "codemirror_mode": {
    "name": "ipython",
    "version": 3
   },
   "file_extension": ".py",
   "mimetype": "text/x-python",
   "name": "python",
   "nbconvert_exporter": "python",
   "pygments_lexer": "ipython3",
   "version": "3.6.5"
  }
 },
 "nbformat": 4,
 "nbformat_minor": 1
}
